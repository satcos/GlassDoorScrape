{
 "cells": [
  {
   "cell_type": "code",
   "execution_count": 1,
   "metadata": {},
   "outputs": [],
   "source": [
    "import os\n",
    "import time\n",
    "\n",
    "import numpy as np\n",
    "import pandas as pd\n",
    "\n",
    "import ssl\n",
    "from urllib.request import Request, urlopen\n",
    "from bs4 import BeautifulSoup"
   ]
  },
  {
   "cell_type": "markdown",
   "metadata": {},
   "source": [
    "## User Input"
   ]
  },
  {
   "cell_type": "code",
   "execution_count": 2,
   "metadata": {},
   "outputs": [],
   "source": [
    "baseURL = \"https://www.glassdoor.co.in/Reviews/Cognizant-Technology-Solutions-Reviews-E8014.htm\"\n",
    "outputFile = 'CTSGlassDoorPart1.csv'\n",
    "companyName = 'CTS' # Just a identifier\n",
    "waitTime = 30 # Time in seconds\n",
    "columnNames = ['pageNo', 'company', 'datetime', 'summary', \n",
    "               'overallRating', 'WorkLifeBalance', 'CultureValues', \n",
    "               'CareerOpportunities', 'CompensationBenefits', 'SeniorManagement', \n",
    "               'pros', 'cons', 'location', 'jobtitle',\n",
    "              'recommend', 'outlook', 'CEO']"
   ]
  },
  {
   "cell_type": "code",
   "execution_count": 3,
   "metadata": {},
   "outputs": [],
   "source": [
    "subRatingTitle = {'Work/Life Balance':'WorkLifeBalance',\n",
    "                 'Culture & Values':'CultureValues',\n",
    "                 'Career Opportunities':'CareerOpportunities',\n",
    "                 'Compensation and Benefits':'CompensationBenefits',\n",
    "                 'Senior Management':'SeniorManagement'}"
   ]
  },
  {
   "cell_type": "code",
   "execution_count": 4,
   "metadata": {},
   "outputs": [],
   "source": [
    "def download_page(url):\n",
    "    hdr = {'User-Agent': 'Mozilla/5.0'}\n",
    "    req = Request(url, headers=hdr)\n",
    "    gcontext = ssl.SSLContext()\n",
    "    page = urlopen(req, context=gcontext)\n",
    "    soup = BeautifulSoup(page, \"html.parser\")\n",
    "    return soup"
   ]
  },
  {
   "cell_type": "code",
   "execution_count": 5,
   "metadata": {},
   "outputs": [],
   "source": [
    "def process_content(review):\n",
    "    # Initilize the page with default content\n",
    "    content = {'company':companyName,\n",
    "              'location':'',\n",
    "              'jobtitle':'',\n",
    "              'recommend':'',\n",
    "              'outlook':'',\n",
    "              'CEO':''}\n",
    "    content['summary'] = review.a.text\n",
    "    content['datetime'] = review.time['datetime']\n",
    "    \n",
    "    overallRating = review.find_all('span', attrs = {'class':'value-title'})\n",
    "    content['overallRating'] = overallRating[0]['title']\n",
    "    \n",
    "    subRatings = review.find_all('div', attrs = {'class':'subRatings module stars__StarsStyles__subRatings'})\n",
    "    if len(subRatings) > 0:\n",
    "        subRatings = subRatings[0].find_all('div', attrs = {'class':'minor'})\n",
    "        for rate in subRatings:\n",
    "            content[subRatingTitle[rate.text]] = rate.next_sibling['title']\n",
    "    \n",
    "    proscons = review.find_all('p', attrs = {'class':'mt-0 mb-xsm v2__EIReviewDetailsV2__bodyColor v2__EIReviewDetailsV2__lineHeightLarge'})\n",
    "    content['pros'] = proscons[0].text\n",
    "    content['cons'] = proscons[1].text\n",
    "    \n",
    "    location = review.find_all('span', attrs={'class':'authorLocation'})\n",
    "    if len(location) > 0:\n",
    "        content['location'] = location[0].text\n",
    "        \n",
    "    jobtitle = review.find_all('span', attrs={'class':'authorJobTitle middle reviewer'})\n",
    "    if len(jobtitle) > 0:\n",
    "        content['jobtitle'] = jobtitle[0].text\n",
    "    \n",
    "    green = review.find_all('i', attrs={'class':'sqLed middle sm mr-xsm green'})\n",
    "    yellow = review.find_all('i', attrs={'class':'sqLed middle sm mr-xsm yellow'})\n",
    "    red = review.find_all('i', attrs={'class':'sqLed middle sm mr-xsm red'})\n",
    "    recommends = green + yellow + red\n",
    "    if len(recommends) > 0:\n",
    "        for recommend in recommends:\n",
    "            recommendText = recommend.next_sibling.text\n",
    "            if 'CEO' in recommendText:\n",
    "                content['CEO'] = recommendText\n",
    "            elif 'Outlook' in recommendText:\n",
    "                content['outlook'] = recommendText\n",
    "            elif 'Recommend' in recommendText:\n",
    "                content['recommend'] = recommendText\n",
    "        \n",
    "    return content"
   ]
  },
  {
   "cell_type": "code",
   "execution_count": 6,
   "metadata": {},
   "outputs": [],
   "source": [
    "#Define a function that is reusable. We need to scrape many pages of many companies\n",
    "def scraper(url, pageNo):\n",
    "    print(\"URL: \", url)\n",
    "    soup = download_page(url)\n",
    "    reviews = soup.find_all('li', attrs={'class':'empReview'})\n",
    "    if len(reviews) < 1:\n",
    "        print(soup)\n",
    "    result = []\n",
    "    for review in reviews:\n",
    "        content = process_content(review)\n",
    "        content['pageNo'] = pageNo\n",
    "        result.append(content)\n",
    "        \n",
    "    result = pd.DataFrame(result)\n",
    "    return result"
   ]
  },
  {
   "cell_type": "code",
   "execution_count": 7,
   "metadata": {},
   "outputs": [],
   "source": [
    "def generate_URL(baseURL, pageNo):\n",
    "    return baseURL[:-4] + '_P' + str(pageNo) + \".htm?sort.sortType=RD&sort.ascending=false\"    "
   ]
  },
  {
   "cell_type": "code",
   "execution_count": 8,
   "metadata": {},
   "outputs": [],
   "source": [
    "def update_stats(noRec, outputFile):\n",
    "    try:\n",
    "        fullData = pd.read_csv(outputFile, encoding='utf-8')\n",
    "        totRec = len(fullData)\n",
    "    except:\n",
    "        totRec = 'Unknown'\n",
    "    print(\"{} new records, {} total records\".format(noRec, totRec))"
   ]
  },
  {
   "cell_type": "code",
   "execution_count": 9,
   "metadata": {},
   "outputs": [],
   "source": [
    "def get_reviews(baseURL, startPage, endPage, outputFile):\n",
    "    for pageNo in range(startPage, endPage + 1):\n",
    "        print('Processing Page No:', str(pageNo))\n",
    "        url = generate_URL(baseURL, pageNo)\n",
    "        result = scraper(url, pageNo)\n",
    "        if len(result) > 0:\n",
    "            result = pd.DataFrame(result, columns=columnNames)\n",
    "            with open(outputFile, 'a') as f:\n",
    "                result.to_csv(f, header=f.tell() == 0, index=False, encoding='utf-8')\n",
    "        update_stats(len(result), outputFile)\n",
    "        print('Idealing')\n",
    "        if pageNo != endPage: \n",
    "            time.sleep(waitTime)"
   ]
  },
  {
   "cell_type": "markdown",
   "metadata": {},
   "source": [
    "## Main Function"
   ]
  },
  {
   "cell_type": "code",
   "execution_count": 10,
   "metadata": {
    "scrolled": true
   },
   "outputs": [
    {
     "name": "stdout",
     "output_type": "stream",
     "text": [
      "Processing Page No: 1\n",
      "URL:  https://www.glassdoor.co.in/Reviews/Cognizant-Technology-Solutions-Reviews-E8014_P1.htm?sort.sortType=RD&sort.ascending=false\n",
      "10 new records, 10 total records\n",
      "Idealing\n",
      "Processing Page No: 2\n",
      "URL:  https://www.glassdoor.co.in/Reviews/Cognizant-Technology-Solutions-Reviews-E8014_P2.htm?sort.sortType=RD&sort.ascending=false\n",
      "10 new records, 20 total records\n",
      "Idealing\n",
      "Processing Page No: 3\n",
      "URL:  https://www.glassdoor.co.in/Reviews/Cognizant-Technology-Solutions-Reviews-E8014_P3.htm?sort.sortType=RD&sort.ascending=false\n",
      "9 new records, 29 total records\n",
      "Idealing\n",
      "Processing Page No: 4\n",
      "URL:  https://www.glassdoor.co.in/Reviews/Cognizant-Technology-Solutions-Reviews-E8014_P4.htm?sort.sortType=RD&sort.ascending=false\n",
      "10 new records, 39 total records\n",
      "Idealing\n",
      "Processing Page No: 5\n",
      "URL:  https://www.glassdoor.co.in/Reviews/Cognizant-Technology-Solutions-Reviews-E8014_P5.htm?sort.sortType=RD&sort.ascending=false\n",
      "10 new records, 49 total records\n",
      "Idealing\n",
      "Processing Page No: 6\n",
      "URL:  https://www.glassdoor.co.in/Reviews/Cognizant-Technology-Solutions-Reviews-E8014_P6.htm?sort.sortType=RD&sort.ascending=false\n",
      "10 new records, 59 total records\n",
      "Idealing\n",
      "Processing Page No: 7\n",
      "URL:  https://www.glassdoor.co.in/Reviews/Cognizant-Technology-Solutions-Reviews-E8014_P7.htm?sort.sortType=RD&sort.ascending=false\n",
      "10 new records, 69 total records\n",
      "Idealing\n",
      "Processing Page No: 8\n",
      "URL:  https://www.glassdoor.co.in/Reviews/Cognizant-Technology-Solutions-Reviews-E8014_P8.htm?sort.sortType=RD&sort.ascending=false\n",
      "10 new records, 79 total records\n",
      "Idealing\n",
      "Processing Page No: 9\n",
      "URL:  https://www.glassdoor.co.in/Reviews/Cognizant-Technology-Solutions-Reviews-E8014_P9.htm?sort.sortType=RD&sort.ascending=false\n",
      "10 new records, 89 total records\n",
      "Idealing\n",
      "Processing Page No: 10\n",
      "URL:  https://www.glassdoor.co.in/Reviews/Cognizant-Technology-Solutions-Reviews-E8014_P10.htm?sort.sortType=RD&sort.ascending=false\n",
      "10 new records, 99 total records\n",
      "Idealing\n",
      "Processing Page No: 11\n",
      "URL:  https://www.glassdoor.co.in/Reviews/Cognizant-Technology-Solutions-Reviews-E8014_P11.htm?sort.sortType=RD&sort.ascending=false\n",
      "10 new records, 109 total records\n",
      "Idealing\n",
      "Processing Page No: 12\n",
      "URL:  https://www.glassdoor.co.in/Reviews/Cognizant-Technology-Solutions-Reviews-E8014_P12.htm?sort.sortType=RD&sort.ascending=false\n",
      "10 new records, 119 total records\n",
      "Idealing\n",
      "Processing Page No: 13\n",
      "URL:  https://www.glassdoor.co.in/Reviews/Cognizant-Technology-Solutions-Reviews-E8014_P13.htm?sort.sortType=RD&sort.ascending=false\n",
      "10 new records, 129 total records\n",
      "Idealing\n",
      "Processing Page No: 14\n",
      "URL:  https://www.glassdoor.co.in/Reviews/Cognizant-Technology-Solutions-Reviews-E8014_P14.htm?sort.sortType=RD&sort.ascending=false\n",
      "10 new records, 139 total records\n",
      "Idealing\n",
      "Processing Page No: 15\n",
      "URL:  https://www.glassdoor.co.in/Reviews/Cognizant-Technology-Solutions-Reviews-E8014_P15.htm?sort.sortType=RD&sort.ascending=false\n",
      "10 new records, 149 total records\n",
      "Idealing\n",
      "Processing Page No: 16\n",
      "URL:  https://www.glassdoor.co.in/Reviews/Cognizant-Technology-Solutions-Reviews-E8014_P16.htm?sort.sortType=RD&sort.ascending=false\n",
      "10 new records, 159 total records\n",
      "Idealing\n",
      "Processing Page No: 17\n",
      "URL:  https://www.glassdoor.co.in/Reviews/Cognizant-Technology-Solutions-Reviews-E8014_P17.htm?sort.sortType=RD&sort.ascending=false\n",
      "10 new records, 169 total records\n",
      "Idealing\n",
      "Processing Page No: 18\n",
      "URL:  https://www.glassdoor.co.in/Reviews/Cognizant-Technology-Solutions-Reviews-E8014_P18.htm?sort.sortType=RD&sort.ascending=false\n",
      "10 new records, 179 total records\n",
      "Idealing\n",
      "Processing Page No: 19\n",
      "URL:  https://www.glassdoor.co.in/Reviews/Cognizant-Technology-Solutions-Reviews-E8014_P19.htm?sort.sortType=RD&sort.ascending=false\n",
      "10 new records, 189 total records\n",
      "Idealing\n",
      "Processing Page No: 20\n",
      "URL:  https://www.glassdoor.co.in/Reviews/Cognizant-Technology-Solutions-Reviews-E8014_P20.htm?sort.sortType=RD&sort.ascending=false\n",
      "10 new records, 199 total records\n",
      "Idealing\n",
      "Processing Page No: 21\n",
      "URL:  https://www.glassdoor.co.in/Reviews/Cognizant-Technology-Solutions-Reviews-E8014_P21.htm?sort.sortType=RD&sort.ascending=false\n",
      "10 new records, 209 total records\n",
      "Idealing\n",
      "Processing Page No: 22\n",
      "URL:  https://www.glassdoor.co.in/Reviews/Cognizant-Technology-Solutions-Reviews-E8014_P22.htm?sort.sortType=RD&sort.ascending=false\n",
      "10 new records, 219 total records\n",
      "Idealing\n",
      "Processing Page No: 23\n",
      "URL:  https://www.glassdoor.co.in/Reviews/Cognizant-Technology-Solutions-Reviews-E8014_P23.htm?sort.sortType=RD&sort.ascending=false\n",
      "10 new records, 229 total records\n",
      "Idealing\n",
      "Processing Page No: 24\n",
      "URL:  https://www.glassdoor.co.in/Reviews/Cognizant-Technology-Solutions-Reviews-E8014_P24.htm?sort.sortType=RD&sort.ascending=false\n",
      "10 new records, 239 total records\n",
      "Idealing\n",
      "Processing Page No: 25\n",
      "URL:  https://www.glassdoor.co.in/Reviews/Cognizant-Technology-Solutions-Reviews-E8014_P25.htm?sort.sortType=RD&sort.ascending=false\n",
      "10 new records, 249 total records\n",
      "Idealing\n"
     ]
    }
   ],
   "source": [
    "# Adjust the start and end page number as required\n",
    "get_reviews(baseURL=baseURL, startPage=1, endPage=25, outputFile=outputFile)"
   ]
  },
  {
   "cell_type": "code",
   "execution_count": null,
   "metadata": {},
   "outputs": [],
   "source": []
  }
 ],
 "metadata": {
  "kernelspec": {
   "display_name": "Python 3",
   "language": "python",
   "name": "python3"
  },
  "language_info": {
   "codemirror_mode": {
    "name": "ipython",
    "version": 3
   },
   "file_extension": ".py",
   "mimetype": "text/x-python",
   "name": "python",
   "nbconvert_exporter": "python",
   "pygments_lexer": "ipython3",
   "version": "3.7.3"
  }
 },
 "nbformat": 4,
 "nbformat_minor": 2
}
